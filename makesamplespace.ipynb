{
 "cells": [
  {
   "cell_type": "code",
   "execution_count": 150,
   "id": "forbidden-issue",
   "metadata": {},
   "outputs": [],
   "source": [
    "import numpy as np\n",
    "from pathlib import Path\n",
    "import pandas as pd\n",
    "import shutil\n",
    "import IPython.display as ipd\n",
    "from PIL import Image"
   ]
  },
  {
   "cell_type": "code",
   "execution_count": 2,
   "id": "loaded-detail",
   "metadata": {},
   "outputs": [],
   "source": [
    "blacklist = [\"fma_small/fma_small/108/108925.mp3\",\"fma_small/fma_small\\099\\099134.mp3\",\"fma_small/fma_small\\133\\133297.mp3\"]"
   ]
  },
  {
   "cell_type": "code",
   "execution_count": 82,
   "id": "labeled-authentication",
   "metadata": {},
   "outputs": [],
   "source": [
    "df = pd.read_csv(\"../csvs/samplespace.csv\")"
   ]
  },
  {
   "cell_type": "code",
   "execution_count": 83,
   "id": "distinct-thickness",
   "metadata": {},
   "outputs": [
    {
     "data": {
      "text/plain": [
       "<AxesSubplot:ylabel='track_genre_top'>"
      ]
     },
     "execution_count": 83,
     "metadata": {},
     "output_type": "execute_result"
    },
    {
     "data": {
      "image/png": "[encoded data removed]",
      "text/plain": [
       "<Figure size 432x288 with 1 Axes>"
      ]
     },
     "metadata": {},
     "output_type": "display_data"
    }
   ],
   "source": [
    "df['track_genre_top'].value_counts().plot.pie()"
   ]
  },
  {
   "cell_type": "code",
   "execution_count": 86,
   "id": "ancient-clinic",
   "metadata": {},
   "outputs": [],
   "source": [
    "df.loc[df.artist_name=='Mastermind XS', \"artist_id\"] = 9169"
   ]
  },
  {
   "cell_type": "code",
   "execution_count": 122,
   "id": "ruled-hostel",
   "metadata": {},
   "outputs": [],
   "source": [
    "sample_lt10 = df.groupby('artist_id').sample(n=6,random_state=1)"
   ]
  },
  {
   "cell_type": "code",
   "execution_count": 123,
   "id": "commercial-budget",
   "metadata": {},
   "outputs": [],
   "source": [
    "val = pd.concat([df,sample_lt10]).drop_duplicates(keep=False)"
   ]
  },
  {
   "cell_type": "code",
   "execution_count": 152,
   "id": "demographic-agriculture",
   "metadata": {},
   "outputs": [],
   "source": [
    "# val[val.artist_id == 127]\n",
    "# ipd.display(val[val.artist_id == 127])\n",
    "# ipd.display(sample_lt10[sample_lt10.artist_id == 127])"
   ]
  },
  {
   "cell_type": "code",
   "execution_count": 182,
   "id": "stopped-viewer",
   "metadata": {},
   "outputs": [
    {
     "data": {
      "text/html": [
       "<div>\n",
       "<style scoped>\n",
       "    .dataframe tbody tr th:only-of-type {\n",
       "        vertical-align: middle;\n",
       "    }\n",
       "\n",
       "    .dataframe tbody tr th {\n",
       "        vertical-align: top;\n",
       "    }\n",
       "\n",
       "    .dataframe thead th {\n",
       "        text-align: right;\n",
       "    }\n",
       "</style>\n",
       "<table border=\"1\" class=\"dataframe\">\n",
       "  <thead>\n",
       "    <tr style=\"text-align: right;\">\n",
       "      <th></th>\n",
       "      <th>track_id</th>\n",
       "      <th>artist_name</th>\n",
       "      <th>artist_id</th>\n",
       "      <th>track_title</th>\n",
       "      <th>track_genre_top</th>\n",
       "    </tr>\n",
       "  </thead>\n",
       "  <tbody>\n",
       "    <tr>\n",
       "      <th>148</th>\n",
       "      <td>7385</td>\n",
       "      <td>Lucky Dragons</td>\n",
       "      <td>10</td>\n",
       "      <td>my imaginary scary home</td>\n",
       "      <td>Experimental</td>\n",
       "    </tr>\n",
       "    <tr>\n",
       "      <th>204</th>\n",
       "      <td>11019</td>\n",
       "      <td>Lucky Dragons</td>\n",
       "      <td>10</td>\n",
       "      <td>Mirror Friends</td>\n",
       "      <td>Experimental</td>\n",
       "    </tr>\n",
       "    <tr>\n",
       "      <th>24</th>\n",
       "      <td>1075</td>\n",
       "      <td>Lucky Dragons</td>\n",
       "      <td>10</td>\n",
       "      <td>Painful Corazon</td>\n",
       "      <td>Experimental</td>\n",
       "    </tr>\n",
       "    <tr>\n",
       "      <th>149</th>\n",
       "      <td>7386</td>\n",
       "      <td>Lucky Dragons</td>\n",
       "      <td>10</td>\n",
       "      <td>its hard to wake up</td>\n",
       "      <td>Experimental</td>\n",
       "    </tr>\n",
       "    <tr>\n",
       "      <th>256</th>\n",
       "      <td>14690</td>\n",
       "      <td>Lucky Dragons</td>\n",
       "      <td>10</td>\n",
       "      <td>Givers</td>\n",
       "      <td>Experimental</td>\n",
       "    </tr>\n",
       "    <tr>\n",
       "      <th>...</th>\n",
       "      <td>...</td>\n",
       "      <td>...</td>\n",
       "      <td>...</td>\n",
       "      <td>...</td>\n",
       "      <td>...</td>\n",
       "    </tr>\n",
       "    <tr>\n",
       "      <th>3383</th>\n",
       "      <td>152254</td>\n",
       "      <td>Panda Dub</td>\n",
       "      <td>23946</td>\n",
       "      <td>Mayd Hubb meets Joe Pilgrim - Tribute to Yabby...</td>\n",
       "      <td>International</td>\n",
       "    </tr>\n",
       "    <tr>\n",
       "      <th>3384</th>\n",
       "      <td>152258</td>\n",
       "      <td>Panda Dub</td>\n",
       "      <td>23946</td>\n",
       "      <td>Purple Trip</td>\n",
       "      <td>International</td>\n",
       "    </tr>\n",
       "    <tr>\n",
       "      <th>3385</th>\n",
       "      <td>152261</td>\n",
       "      <td>Panda Dub</td>\n",
       "      <td>23946</td>\n",
       "      <td>Danse Macabre</td>\n",
       "      <td>International</td>\n",
       "    </tr>\n",
       "    <tr>\n",
       "      <th>3386</th>\n",
       "      <td>152262</td>\n",
       "      <td>Panda Dub</td>\n",
       "      <td>23946</td>\n",
       "      <td>Die Brücke</td>\n",
       "      <td>International</td>\n",
       "    </tr>\n",
       "    <tr>\n",
       "      <th>3381</th>\n",
       "      <td>152103</td>\n",
       "      <td>Panda Dub</td>\n",
       "      <td>23946</td>\n",
       "      <td>Smile is the key</td>\n",
       "      <td>International</td>\n",
       "    </tr>\n",
       "  </tbody>\n",
       "</table>\n",
       "<p>2124 rows × 5 columns</p>\n",
       "</div>"
      ],
      "text/plain": [
       "      track_id    artist_name  artist_id  \\\n",
       "148       7385  Lucky Dragons         10   \n",
       "204      11019  Lucky Dragons         10   \n",
       "24        1075  Lucky Dragons         10   \n",
       "149       7386  Lucky Dragons         10   \n",
       "256      14690  Lucky Dragons         10   \n",
       "...        ...            ...        ...   \n",
       "3383    152254      Panda Dub      23946   \n",
       "3384    152258      Panda Dub      23946   \n",
       "3385    152261      Panda Dub      23946   \n",
       "3386    152262      Panda Dub      23946   \n",
       "3381    152103      Panda Dub      23946   \n",
       "\n",
       "                                            track_title track_genre_top  \n",
       "148                             my imaginary scary home    Experimental  \n",
       "204                                      Mirror Friends    Experimental  \n",
       "24                                      Painful Corazon    Experimental  \n",
       "149                                 its hard to wake up    Experimental  \n",
       "256                                              Givers    Experimental  \n",
       "...                                                 ...             ...  \n",
       "3383  Mayd Hubb meets Joe Pilgrim - Tribute to Yabby...   International  \n",
       "3384                                        Purple Trip   International  \n",
       "3385                                      Danse Macabre   International  \n",
       "3386                                         Die Brücke   International  \n",
       "3381                                   Smile is the key   International  \n",
       "\n",
       "[2124 rows x 5 columns]"
      ]
     },
     "execution_count": 182,
     "metadata": {},
     "output_type": "execute_result"
    }
   ],
   "source": [
    "sample_lt10"
   ]
  },
  {
   "cell_type": "code",
   "execution_count": 229,
   "id": "fitted-fisher",
   "metadata": {},
   "outputs": [],
   "source": [
    "train_file_list = sample_lt10.track_id.to_list()\n",
    "y_train  = sample_lt10.artist_id.to_numpy()\n",
    "\n",
    "test_file_list = val.track_id.to_list()\n",
    "y_test = val.artist_id.to_numpy()"
   ]
  },
  {
   "cell_type": "code",
   "execution_count": 231,
   "id": "dutch-february",
   "metadata": {},
   "outputs": [
    {
     "name": "stdout",
     "output_type": "stream",
     "text": [
      "2124 1276 2124 1276\n"
     ]
    }
   ],
   "source": [
    "print(len(train_file_list), len(test_file_list), len(y_train), len(y_test))"
   ]
  },
  {
   "cell_type": "code",
   "execution_count": 232,
   "id": "union-consciousness",
   "metadata": {},
   "outputs": [],
   "source": [
    "train_file_list = [\"%06.0f\" % x for x in train_file_list] # to have evenly padded 6 digit nos\n",
    "test_file_list = [\"%06.0f\" % x for x in test_file_list]"
   ]
  },
  {
   "cell_type": "code",
   "execution_count": null,
   "id": "angry-indian",
   "metadata": {},
   "outputs": [],
   "source": [
    "# train_file_list"
   ]
  },
  {
   "cell_type": "code",
   "execution_count": 233,
   "id": "accepted-findings",
   "metadata": {
    "scrolled": true
   },
   "outputs": [
    {
     "name": "stdout",
     "output_type": "stream",
     "text": [
      "Done training samples\n",
      "Done test sampels\n"
     ]
    }
   ],
   "source": [
    "source_dir = \"../precalculated_files_mel/fma_single/\"\n",
    "# dest_dir = \"../precalculated_files_mel/samplespace/\"\n",
    "\n",
    "x_train = np.zeros((len(train_file_list),369,496,1))\n",
    "\n",
    "x_test = np.zeros((len(test_file_list),369,496,1))\n",
    "\n",
    "for ind,file_stem in enumerate(train_file_list):\n",
    "    src = Image.open(source_dir+file_stem+\".png\").convert('L')\n",
    "    src = np.expand_dims(src,-1)/255\n",
    "    x_train[ind] = src\n",
    "\n",
    "print(\"Done training samples\")\n",
    "\n",
    "for ind,file_stem in enumerate(test_file_list):\n",
    "    src = Image.open(source_dir+file_stem+\".png\").convert('L')\n",
    "    src = np.expand_dims(src,-1)/255\n",
    "    x_test[ind] = src\n",
    "    \n",
    "print(\"Done test sampels\")"
   ]
  },
  {
   "cell_type": "code",
   "execution_count": 235,
   "id": "confused-bearing",
   "metadata": {},
   "outputs": [
    {
     "data": {
      "text/plain": [
       "(1276, 369, 496, 1)"
      ]
     },
     "execution_count": 235,
     "metadata": {},
     "output_type": "execute_result"
    }
   ],
   "source": [
    "x_test.shape"
   ]
  },
  {
   "cell_type": "code",
   "execution_count": 236,
   "id": "taken-fishing",
   "metadata": {},
   "outputs": [],
   "source": [
    "np.save(\"x_train\", x_train)\n",
    "np.save(\"y_train\",y_train)"
   ]
  },
  {
   "cell_type": "code",
   "execution_count": 237,
   "id": "impressed-fifth",
   "metadata": {},
   "outputs": [],
   "source": [
    "np.save(\"x_test\",x_test)\n",
    "np.save(\"y_test\",y_test)"
   ]
  },
  {
   "cell_type": "code",
   "execution_count": 241,
   "id": "standard-stretch",
   "metadata": {},
   "outputs": [],
   "source": [
    "val = np.load(\"x_train.npy\")"
   ]
  },
  {
   "cell_type": "code",
   "execution_count": 242,
   "id": "threatened-charger",
   "metadata": {},
   "outputs": [
    {
     "data": {
      "text/plain": [
       "(2124, 369, 496, 1)"
      ]
     },
     "execution_count": 242,
     "metadata": {},
     "output_type": "execute_result"
    }
   ],
   "source": [
    "val.shape"
   ]
  },
  {
   "cell_type": "code",
   "execution_count": null,
   "id": "ready-clarity",
   "metadata": {},
   "outputs": [],
   "source": []
  }
 ],
 "metadata": {
  "kernelspec": {
   "display_name": "Python 3",
   "language": "python",
   "name": "python3"
  },
  "language_info": {
   "codemirror_mode": {
    "name": "ipython",
    "version": 3
   },
   "file_extension": ".py",
   "mimetype": "text/x-python",
   "name": "python",
   "nbconvert_exporter": "python",
   "pygments_lexer": "ipython3",
   "version": "3.8.5"
  }
 },
 "nbformat": 4,
 "nbformat_minor": 5
}
