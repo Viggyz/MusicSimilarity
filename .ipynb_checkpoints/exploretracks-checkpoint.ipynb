{
 "cells": [
  {
   "cell_type": "code",
   "execution_count": 40,
   "id": "statewide-campaign",
   "metadata": {},
   "outputs": [],
   "source": [
    "import pandas as pd\n",
    "import IPython.display as ipd\n",
    "import utils\n",
    "from pathlib import Path"
   ]
  },
  {
   "cell_type": "code",
   "execution_count": 4,
   "id": "primary-lighter",
   "metadata": {},
   "outputs": [],
   "source": [
    "tracks = utils.load('../csvs/tracks.csv')"
   ]
  },
  {
   "cell_type": "code",
   "execution_count": 5,
   "id": "incorrect-approval",
   "metadata": {},
   "outputs": [],
   "source": [
    "fma_small = tracks.loc[tracks['set','subset'] == \"small\"]"
   ]
  },
  {
   "cell_type": "code",
   "execution_count": 6,
   "id": "organized-victim",
   "metadata": {},
   "outputs": [
    {
     "data": {
      "text/plain": [
       "MultiIndex([( 'album',          'comments'),\n",
       "            ( 'album',      'date_created'),\n",
       "            ( 'album',     'date_released'),\n",
       "            ( 'album',          'engineer'),\n",
       "            ( 'album',         'favorites'),\n",
       "            ( 'album',                'id'),\n",
       "            ( 'album',       'information'),\n",
       "            ( 'album',           'listens'),\n",
       "            ( 'album',          'producer'),\n",
       "            ( 'album',              'tags'),\n",
       "            ( 'album',             'title'),\n",
       "            ( 'album',            'tracks'),\n",
       "            ( 'album',              'type'),\n",
       "            ('artist', 'active_year_begin'),\n",
       "            ('artist',   'active_year_end'),\n",
       "            ('artist', 'associated_labels'),\n",
       "            ('artist',               'bio'),\n",
       "            ('artist',          'comments'),\n",
       "            ('artist',      'date_created'),\n",
       "            ('artist',         'favorites'),\n",
       "            ('artist',                'id'),\n",
       "            ('artist',          'latitude'),\n",
       "            ('artist',          'location'),\n",
       "            ('artist',         'longitude'),\n",
       "            ('artist',           'members'),\n",
       "            ('artist',              'name'),\n",
       "            ('artist',  'related_projects'),\n",
       "            ('artist',              'tags'),\n",
       "            ('artist',           'website'),\n",
       "            ('artist',    'wikipedia_page'),\n",
       "            (   'set',             'split'),\n",
       "            (   'set',            'subset'),\n",
       "            ( 'track',          'bit_rate'),\n",
       "            ( 'track',          'comments'),\n",
       "            ( 'track',          'composer'),\n",
       "            ( 'track',      'date_created'),\n",
       "            ( 'track',     'date_recorded'),\n",
       "            ( 'track',          'duration'),\n",
       "            ( 'track',         'favorites'),\n",
       "            ( 'track',         'genre_top'),\n",
       "            ( 'track',            'genres'),\n",
       "            ( 'track',        'genres_all'),\n",
       "            ( 'track',       'information'),\n",
       "            ( 'track',          'interest'),\n",
       "            ( 'track',     'language_code'),\n",
       "            ( 'track',           'license'),\n",
       "            ( 'track',           'listens'),\n",
       "            ( 'track',          'lyricist'),\n",
       "            ( 'track',            'number'),\n",
       "            ( 'track',         'publisher'),\n",
       "            ( 'track',              'tags'),\n",
       "            ( 'track',             'title')],\n",
       "           )"
      ]
     },
     "execution_count": 6,
     "metadata": {},
     "output_type": "execute_result"
    }
   ],
   "source": [
    "fma_small.columns"
   ]
  },
  {
   "cell_type": "code",
   "execution_count": 7,
   "id": "suspected-intro",
   "metadata": {},
   "outputs": [
    {
     "data": {
      "text/plain": [
       "Electronic             1000\n",
       "Experimental           1000\n",
       "Folk                   1000\n",
       "Hip-Hop                1000\n",
       "Instrumental           1000\n",
       "International          1000\n",
       "Pop                    1000\n",
       "Rock                   1000\n",
       "Blues                     0\n",
       "Classical                 0\n",
       "Country                   0\n",
       "Easy Listening            0\n",
       "Jazz                      0\n",
       "Old-Time / Historic       0\n",
       "Soul-RnB                  0\n",
       "Spoken                    0\n",
       "Name: (track, genre_top), dtype: int64"
      ]
     },
     "execution_count": 7,
     "metadata": {},
     "output_type": "execute_result"
    }
   ],
   "source": [
    "fma_small['track','genre_top'].value_counts()\n",
    "#* balanced genres of Electronic,Experimental, Folk, Hip-Hop, Instrumental, International, Pop, Rock"
   ]
  },
  {
   "cell_type": "code",
   "execution_count": 8,
   "id": "noticed-maryland",
   "metadata": {},
   "outputs": [],
   "source": [
    "# genre_group = fma_small[fma_small['track','genre_top'] == 'Instrumental']\n",
    "genre_group = fma_small.groupby(('track','genre_top'))"
   ]
  },
  {
   "cell_type": "code",
   "execution_count": 9,
   "id": "binary-seating",
   "metadata": {},
   "outputs": [
    {
     "data": {
      "text/plain": [
       "(track, genre_top)\n",
       "Experimental           482\n",
       "Rock                   448\n",
       "Electronic             360\n",
       "Pop                    297\n",
       "International          255\n",
       "Folk                   249\n",
       "Hip-Hop                194\n",
       "Instrumental           120\n",
       "Blues                    0\n",
       "Classical                0\n",
       "Country                  0\n",
       "Easy Listening           0\n",
       "Jazz                     0\n",
       "Old-Time / Historic      0\n",
       "Soul-RnB                 0\n",
       "Spoken                   0\n",
       "dtype: int64"
      ]
     },
     "metadata": {},
     "output_type": "display_data"
    },
    {
     "data": {
      "text/plain": [
       "2405"
      ]
     },
     "execution_count": 9,
     "metadata": {},
     "output_type": "execute_result"
    },
    {
     "data": {
      "image/png": "[encoded data removed]",
      "text/plain": [
       "<Figure size 432x288 with 1 Axes>"
      ]
     },
     "metadata": {
      "needs_background": "light"
     },
     "output_type": "display_data"
    }
   ],
   "source": [
    "art_per_genre = genre_group.apply(lambda x: x['artist','name'].nunique()).sort_values(ascending=False)\n",
    "ipd.display(art_per_genre)\n",
    "art_per_genre.plot.bar()\n",
    "art_per_genre.sum()\n",
    "# art_per_genre.plot.pie()"
   ]
  },
  {
   "cell_type": "code",
   "execution_count": 10,
   "id": "concrete-damage",
   "metadata": {},
   "outputs": [
    {
     "data": {
      "text/plain": [
       "Blue Dot Sessions     208\n",
       "Big Blood              91\n",
       "The Impossebulls       68\n",
       "Squire Tuck            56\n",
       "Kellee Maize           55\n",
       "                     ... \n",
       "Juan Antonio Nieto      1\n",
       "Chuck D                 1\n",
       "Dina Maccabee           1\n",
       "Kusum Normoyle          1\n",
       "Home Blitz              1\n",
       "Name: (artist, name), Length: 2306, dtype: int64"
      ]
     },
     "execution_count": 10,
     "metadata": {},
     "output_type": "execute_result"
    }
   ],
   "source": [
    "fma_small['artist',\"name\"].value_counts() # No of songs belonging to each artist"
   ]
  },
  {
   "cell_type": "code",
   "execution_count": 11,
   "id": "coordinated-professor",
   "metadata": {},
   "outputs": [],
   "source": [
    "artists_freq = fma_small['artist',\"name\"].value_counts()"
   ]
  },
  {
   "cell_type": "code",
   "execution_count": 12,
   "id": "vertical-butter",
   "metadata": {},
   "outputs": [
    {
     "data": {
      "text/plain": [
       "1.0"
      ]
     },
     "metadata": {},
     "output_type": "display_data"
    },
    {
     "data": {
      "text/plain": [
       "3.4692107545533393"
      ]
     },
     "metadata": {},
     "output_type": "display_data"
    }
   ],
   "source": [
    "ipd.display(artists_freq.median())\n",
    "ipd.display(artists_freq.mean())"
   ]
  },
  {
   "cell_type": "code",
   "execution_count": 13,
   "id": "amber-label",
   "metadata": {},
   "outputs": [
    {
     "data": {
      "text/plain": [
       "1      1195\n",
       "2       292\n",
       "3       198\n",
       "4       147\n",
       "5        96\n",
       "6        86\n",
       "7        58\n",
       "9        39\n",
       "8        35\n",
       "10       34\n",
       "11       27\n",
       "12       19\n",
       "16        9\n",
       "15        8\n",
       "13        8\n",
       "21        5\n",
       "19        5\n",
       "29        4\n",
       "14        4\n",
       "18        4\n",
       "24        3\n",
       "17        3\n",
       "33        2\n",
       "28        2\n",
       "26        2\n",
       "20        2\n",
       "23        2\n",
       "25        1\n",
       "55        1\n",
       "47        1\n",
       "45        1\n",
       "41        1\n",
       "39        1\n",
       "27        1\n",
       "56        1\n",
       "68        1\n",
       "30        1\n",
       "36        1\n",
       "38        1\n",
       "42        1\n",
       "44        1\n",
       "54        1\n",
       "208       1\n",
       "91        1\n",
       "Name: (artist, name), dtype: int64"
      ]
     },
     "metadata": {},
     "output_type": "display_data"
    },
    {
     "data": {
      "text/plain": [
       "<AxesSubplot:xlabel='no of songs', ylabel='no of artists with x songs'>"
      ]
     },
     "execution_count": 13,
     "metadata": {},
     "output_type": "execute_result"
    },
    {
     "data": {
      "image/png": "[encoded data removed]",
      "text/plain": [
       "<Figure size 720x360 with 1 Axes>"
      ]
     },
     "metadata": {
      "needs_background": "light"
     },
     "output_type": "display_data"
    }
   ],
   "source": [
    "ipd.display(artists_freq.value_counts()) #no of artists that have only 1 song is 1195, 2 songs is 292\n",
    "artists_freq.value_counts().plot(kind=\"bar\", ylabel='no of artists with x songs', xlabel=\"no of songs\", figsize=(10,5))"
   ]
  },
  {
   "cell_type": "code",
   "execution_count": 14,
   "id": "relative-transition",
   "metadata": {},
   "outputs": [
    {
     "data": {
      "text/plain": [
       "4559"
      ]
     },
     "execution_count": 14,
     "metadata": {},
     "output_type": "execute_result"
    }
   ],
   "source": [
    "artists_freq[artists_freq >= 6].sum()"
   ]
  },
  {
   "cell_type": "code",
   "execution_count": 15,
   "id": "knowing-reward",
   "metadata": {},
   "outputs": [],
   "source": [
    "# art_count_freq = artists_freq.value_counts()\n"
   ]
  },
  {
   "cell_type": "code",
   "execution_count": 16,
   "id": "continuous-morrison",
   "metadata": {},
   "outputs": [
    {
     "data": {
      "text/plain": [
       "Blue Dot Sessions                      208\n",
       "Big Blood                               91\n",
       "The Impossebulls                        68\n",
       "Squire Tuck                             56\n",
       "Kellee Maize                            55\n",
       "                                      ... \n",
       "Zé Trigueiros                            6\n",
       "Los Margaritos                           6\n",
       "Origami Repetika                         6\n",
       "La Tabù                                  6\n",
       "Kellee Maize & J. Glaze Productions      6\n",
       "Name: (artist, name), Length: 378, dtype: int64"
      ]
     },
     "execution_count": 16,
     "metadata": {},
     "output_type": "execute_result"
    }
   ],
   "source": [
    "artists_freq[artists_freq >= 6]\n",
    "#x is no of songs y is no of artists that have x songs"
   ]
  },
  {
   "cell_type": "code",
   "execution_count": 17,
   "id": "maritime-container",
   "metadata": {},
   "outputs": [],
   "source": [
    "artlist = artists_freq[artists_freq >= 6].index.to_numpy() #Selecting artists who have >= 6 songs, 292 artists\n",
    "songsset = fma_small.loc[fma_small['artist','name'].isin(artlist)] #set of all songs which are belong to artlist\n",
    "# ipd.display(artlist)"
   ]
  },
  {
   "cell_type": "code",
   "execution_count": 18,
   "id": "phantom-ebony",
   "metadata": {},
   "outputs": [
    {
     "data": {
      "text/plain": [
       "Blue Dot Sessions    208\n",
       "Big Blood             91\n",
       "The Impossebulls      68\n",
       "Squire Tuck           56\n",
       "Kellee Maize          55\n",
       "                    ... \n",
       "Fósforo                6\n",
       "Büromaschinen          6\n",
       "Vitamin Pets           6\n",
       "Waylon Thornton        6\n",
       "Vanya Zhuk             6\n",
       "Name: (artist, name), Length: 378, dtype: int64"
      ]
     },
     "execution_count": 18,
     "metadata": {},
     "output_type": "execute_result"
    }
   ],
   "source": [
    "songsset['artist','name'].value_counts()"
   ]
  },
  {
   "cell_type": "code",
   "execution_count": 36,
   "id": "preceding-weekend",
   "metadata": {},
   "outputs": [
    {
     "data": {
      "text/html": [
       "<div>\n",
       "<style scoped>\n",
       "    .dataframe tbody tr th:only-of-type {\n",
       "        vertical-align: middle;\n",
       "    }\n",
       "\n",
       "    .dataframe tbody tr th {\n",
       "        vertical-align: top;\n",
       "    }\n",
       "\n",
       "    .dataframe thead th {\n",
       "        text-align: right;\n",
       "    }\n",
       "</style>\n",
       "<table border=\"1\" class=\"dataframe\">\n",
       "  <thead>\n",
       "    <tr style=\"text-align: right;\">\n",
       "      <th></th>\n",
       "      <th>bit_rate</th>\n",
       "      <th>comments</th>\n",
       "      <th>composer</th>\n",
       "      <th>date_created</th>\n",
       "      <th>date_recorded</th>\n",
       "      <th>duration</th>\n",
       "      <th>favorites</th>\n",
       "      <th>genre_top</th>\n",
       "      <th>genres</th>\n",
       "      <th>genres_all</th>\n",
       "      <th>information</th>\n",
       "      <th>interest</th>\n",
       "      <th>language_code</th>\n",
       "      <th>license</th>\n",
       "      <th>listens</th>\n",
       "      <th>lyricist</th>\n",
       "      <th>number</th>\n",
       "      <th>publisher</th>\n",
       "      <th>tags</th>\n",
       "      <th>title</th>\n",
       "    </tr>\n",
       "    <tr>\n",
       "      <th>track_id</th>\n",
       "      <th></th>\n",
       "      <th></th>\n",
       "      <th></th>\n",
       "      <th></th>\n",
       "      <th></th>\n",
       "      <th></th>\n",
       "      <th></th>\n",
       "      <th></th>\n",
       "      <th></th>\n",
       "      <th></th>\n",
       "      <th></th>\n",
       "      <th></th>\n",
       "      <th></th>\n",
       "      <th></th>\n",
       "      <th></th>\n",
       "      <th></th>\n",
       "      <th></th>\n",
       "      <th></th>\n",
       "      <th></th>\n",
       "      <th></th>\n",
       "    </tr>\n",
       "  </thead>\n",
       "  <tbody>\n",
       "    <tr>\n",
       "      <th>190</th>\n",
       "      <td>256000</td>\n",
       "      <td>0</td>\n",
       "      <td>NaN</td>\n",
       "      <td>2008-11-26 01:46:54</td>\n",
       "      <td>NaT</td>\n",
       "      <td>249</td>\n",
       "      <td>1</td>\n",
       "      <td>Folk</td>\n",
       "      <td>[17]</td>\n",
       "      <td>[17]</td>\n",
       "      <td>NaN</td>\n",
       "      <td>1758</td>\n",
       "      <td>en</td>\n",
       "      <td>Attribution-NonCommercial-ShareAlike 3.0 Inter...</td>\n",
       "      <td>945</td>\n",
       "      <td>NaN</td>\n",
       "      <td>2</td>\n",
       "      <td>NaN</td>\n",
       "      <td>[]</td>\n",
       "      <td>Castle Of Stars</td>\n",
       "    </tr>\n",
       "    <tr>\n",
       "      <th>193</th>\n",
       "      <td>256000</td>\n",
       "      <td>0</td>\n",
       "      <td>NaN</td>\n",
       "      <td>2008-11-26 01:47:02</td>\n",
       "      <td>NaT</td>\n",
       "      <td>254</td>\n",
       "      <td>0</td>\n",
       "      <td>Folk</td>\n",
       "      <td>[17]</td>\n",
       "      <td>[17]</td>\n",
       "      <td>NaN</td>\n",
       "      <td>1679</td>\n",
       "      <td>en</td>\n",
       "      <td>Attribution-NonCommercial-ShareAlike 3.0 Inter...</td>\n",
       "      <td>824</td>\n",
       "      <td>NaN</td>\n",
       "      <td>3</td>\n",
       "      <td>NaN</td>\n",
       "      <td>[]</td>\n",
       "      <td>Here With You</td>\n",
       "    </tr>\n",
       "    <tr>\n",
       "      <th>194</th>\n",
       "      <td>256000</td>\n",
       "      <td>0</td>\n",
       "      <td>NaN</td>\n",
       "      <td>2008-11-26 01:47:05</td>\n",
       "      <td>NaT</td>\n",
       "      <td>192</td>\n",
       "      <td>1</td>\n",
       "      <td>Folk</td>\n",
       "      <td>[17]</td>\n",
       "      <td>[17]</td>\n",
       "      <td>NaN</td>\n",
       "      <td>1780</td>\n",
       "      <td>en</td>\n",
       "      <td>Attribution-NonCommercial-ShareAlike 3.0 Inter...</td>\n",
       "      <td>754</td>\n",
       "      <td>NaN</td>\n",
       "      <td>4</td>\n",
       "      <td>NaN</td>\n",
       "      <td>[]</td>\n",
       "      <td>All I want to Do</td>\n",
       "    </tr>\n",
       "    <tr>\n",
       "      <th>197</th>\n",
       "      <td>256000</td>\n",
       "      <td>0</td>\n",
       "      <td>NaN</td>\n",
       "      <td>2008-11-26 01:47:15</td>\n",
       "      <td>NaT</td>\n",
       "      <td>68</td>\n",
       "      <td>1</td>\n",
       "      <td>Folk</td>\n",
       "      <td>[17]</td>\n",
       "      <td>[17]</td>\n",
       "      <td>NaN</td>\n",
       "      <td>2286</td>\n",
       "      <td>en</td>\n",
       "      <td>Attribution-NonCommercial-ShareAlike 3.0 Inter...</td>\n",
       "      <td>833</td>\n",
       "      <td>NaN</td>\n",
       "      <td>5</td>\n",
       "      <td>NaN</td>\n",
       "      <td>[]</td>\n",
       "      <td>Piano 2</td>\n",
       "    </tr>\n",
       "    <tr>\n",
       "      <th>200</th>\n",
       "      <td>256000</td>\n",
       "      <td>0</td>\n",
       "      <td>NaN</td>\n",
       "      <td>2008-11-26 01:47:25</td>\n",
       "      <td>NaT</td>\n",
       "      <td>194</td>\n",
       "      <td>1</td>\n",
       "      <td>Folk</td>\n",
       "      <td>[17]</td>\n",
       "      <td>[17]</td>\n",
       "      <td>NaN</td>\n",
       "      <td>1945</td>\n",
       "      <td>en</td>\n",
       "      <td>Attribution-NonCommercial-ShareAlike 3.0 Inter...</td>\n",
       "      <td>772</td>\n",
       "      <td>NaN</td>\n",
       "      <td>7</td>\n",
       "      <td>NaN</td>\n",
       "      <td>[]</td>\n",
       "      <td>Baby Come Home</td>\n",
       "    </tr>\n",
       "    <tr>\n",
       "      <th>...</th>\n",
       "      <td>...</td>\n",
       "      <td>...</td>\n",
       "      <td>...</td>\n",
       "      <td>...</td>\n",
       "      <td>...</td>\n",
       "      <td>...</td>\n",
       "      <td>...</td>\n",
       "      <td>...</td>\n",
       "      <td>...</td>\n",
       "      <td>...</td>\n",
       "      <td>...</td>\n",
       "      <td>...</td>\n",
       "      <td>...</td>\n",
       "      <td>...</td>\n",
       "      <td>...</td>\n",
       "      <td>...</td>\n",
       "      <td>...</td>\n",
       "      <td>...</td>\n",
       "      <td>...</td>\n",
       "      <td>...</td>\n",
       "    </tr>\n",
       "    <tr>\n",
       "      <th>154305</th>\n",
       "      <td>320000</td>\n",
       "      <td>0</td>\n",
       "      <td>NaN</td>\n",
       "      <td>2017-03-05 04:58:47</td>\n",
       "      <td>NaT</td>\n",
       "      <td>265</td>\n",
       "      <td>0</td>\n",
       "      <td>Hip-Hop</td>\n",
       "      <td>[21, 539, 811]</td>\n",
       "      <td>[811, 539, 21]</td>\n",
       "      <td>NaN</td>\n",
       "      <td>1669</td>\n",
       "      <td>NaN</td>\n",
       "      <td>Attribution</td>\n",
       "      <td>1387</td>\n",
       "      <td>NaN</td>\n",
       "      <td>14</td>\n",
       "      <td>NaN</td>\n",
       "      <td>[fleslit, trap beat free use, trap beat free d...</td>\n",
       "      <td>Calm Flight</td>\n",
       "    </tr>\n",
       "    <tr>\n",
       "      <th>154306</th>\n",
       "      <td>320000</td>\n",
       "      <td>0</td>\n",
       "      <td>NaN</td>\n",
       "      <td>2017-03-05 04:58:49</td>\n",
       "      <td>NaT</td>\n",
       "      <td>212</td>\n",
       "      <td>0</td>\n",
       "      <td>Hip-Hop</td>\n",
       "      <td>[21, 539, 811]</td>\n",
       "      <td>[811, 539, 21]</td>\n",
       "      <td>NaN</td>\n",
       "      <td>1928</td>\n",
       "      <td>NaN</td>\n",
       "      <td>Attribution</td>\n",
       "      <td>1573</td>\n",
       "      <td>NaN</td>\n",
       "      <td>15</td>\n",
       "      <td>NaN</td>\n",
       "      <td>[fleslit, trap beat free use, trap beat free d...</td>\n",
       "      <td>Yummy</td>\n",
       "    </tr>\n",
       "    <tr>\n",
       "      <th>154307</th>\n",
       "      <td>320000</td>\n",
       "      <td>0</td>\n",
       "      <td>NaN</td>\n",
       "      <td>2017-03-05 04:58:49</td>\n",
       "      <td>NaT</td>\n",
       "      <td>196</td>\n",
       "      <td>3</td>\n",
       "      <td>Hip-Hop</td>\n",
       "      <td>[21, 539, 811]</td>\n",
       "      <td>[811, 539, 21]</td>\n",
       "      <td>NaN</td>\n",
       "      <td>2275</td>\n",
       "      <td>NaN</td>\n",
       "      <td>Attribution</td>\n",
       "      <td>1835</td>\n",
       "      <td>NaN</td>\n",
       "      <td>16</td>\n",
       "      <td>NaN</td>\n",
       "      <td>[fleslit, trap beat free use, trap beat free d...</td>\n",
       "      <td>12:01 AM</td>\n",
       "    </tr>\n",
       "    <tr>\n",
       "      <th>154308</th>\n",
       "      <td>320000</td>\n",
       "      <td>0</td>\n",
       "      <td>NaN</td>\n",
       "      <td>2017-03-05 04:58:50</td>\n",
       "      <td>NaT</td>\n",
       "      <td>194</td>\n",
       "      <td>2</td>\n",
       "      <td>Hip-Hop</td>\n",
       "      <td>[21, 539, 811]</td>\n",
       "      <td>[811, 539, 21]</td>\n",
       "      <td>NaN</td>\n",
       "      <td>3371</td>\n",
       "      <td>NaN</td>\n",
       "      <td>Attribution</td>\n",
       "      <td>2705</td>\n",
       "      <td>NaN</td>\n",
       "      <td>17</td>\n",
       "      <td>NaN</td>\n",
       "      <td>[fleslit, trap beat free use, trap beat free d...</td>\n",
       "      <td>MIA</td>\n",
       "    </tr>\n",
       "    <tr>\n",
       "      <th>154309</th>\n",
       "      <td>320000</td>\n",
       "      <td>0</td>\n",
       "      <td>NaN</td>\n",
       "      <td>2017-03-05 04:58:52</td>\n",
       "      <td>NaT</td>\n",
       "      <td>162</td>\n",
       "      <td>5</td>\n",
       "      <td>Hip-Hop</td>\n",
       "      <td>[21, 539, 811]</td>\n",
       "      <td>[811, 539, 21]</td>\n",
       "      <td>NaN</td>\n",
       "      <td>4525</td>\n",
       "      <td>NaN</td>\n",
       "      <td>Attribution</td>\n",
       "      <td>3589</td>\n",
       "      <td>NaN</td>\n",
       "      <td>18</td>\n",
       "      <td>NaN</td>\n",
       "      <td>[fleslit, trap beat free use, trap beat free d...</td>\n",
       "      <td>A1 Symphony</td>\n",
       "    </tr>\n",
       "  </tbody>\n",
       "</table>\n",
       "<p>4559 rows × 20 columns</p>\n",
       "</div>"
      ],
      "text/plain": [
       "          bit_rate  comments composer        date_created date_recorded  \\\n",
       "track_id                                                                  \n",
       "190         256000         0      NaN 2008-11-26 01:46:54           NaT   \n",
       "193         256000         0      NaN 2008-11-26 01:47:02           NaT   \n",
       "194         256000         0      NaN 2008-11-26 01:47:05           NaT   \n",
       "197         256000         0      NaN 2008-11-26 01:47:15           NaT   \n",
       "200         256000         0      NaN 2008-11-26 01:47:25           NaT   \n",
       "...            ...       ...      ...                 ...           ...   \n",
       "154305      320000         0      NaN 2017-03-05 04:58:47           NaT   \n",
       "154306      320000         0      NaN 2017-03-05 04:58:49           NaT   \n",
       "154307      320000         0      NaN 2017-03-05 04:58:49           NaT   \n",
       "154308      320000         0      NaN 2017-03-05 04:58:50           NaT   \n",
       "154309      320000         0      NaN 2017-03-05 04:58:52           NaT   \n",
       "\n",
       "          duration  favorites genre_top          genres      genres_all  \\\n",
       "track_id                                                                  \n",
       "190            249          1      Folk            [17]            [17]   \n",
       "193            254          0      Folk            [17]            [17]   \n",
       "194            192          1      Folk            [17]            [17]   \n",
       "197             68          1      Folk            [17]            [17]   \n",
       "200            194          1      Folk            [17]            [17]   \n",
       "...            ...        ...       ...             ...             ...   \n",
       "154305         265          0   Hip-Hop  [21, 539, 811]  [811, 539, 21]   \n",
       "154306         212          0   Hip-Hop  [21, 539, 811]  [811, 539, 21]   \n",
       "154307         196          3   Hip-Hop  [21, 539, 811]  [811, 539, 21]   \n",
       "154308         194          2   Hip-Hop  [21, 539, 811]  [811, 539, 21]   \n",
       "154309         162          5   Hip-Hop  [21, 539, 811]  [811, 539, 21]   \n",
       "\n",
       "         information  interest language_code  \\\n",
       "track_id                                       \n",
       "190              NaN      1758            en   \n",
       "193              NaN      1679            en   \n",
       "194              NaN      1780            en   \n",
       "197              NaN      2286            en   \n",
       "200              NaN      1945            en   \n",
       "...              ...       ...           ...   \n",
       "154305           NaN      1669           NaN   \n",
       "154306           NaN      1928           NaN   \n",
       "154307           NaN      2275           NaN   \n",
       "154308           NaN      3371           NaN   \n",
       "154309           NaN      4525           NaN   \n",
       "\n",
       "                                                    license  listens lyricist  \\\n",
       "track_id                                                                        \n",
       "190       Attribution-NonCommercial-ShareAlike 3.0 Inter...      945      NaN   \n",
       "193       Attribution-NonCommercial-ShareAlike 3.0 Inter...      824      NaN   \n",
       "194       Attribution-NonCommercial-ShareAlike 3.0 Inter...      754      NaN   \n",
       "197       Attribution-NonCommercial-ShareAlike 3.0 Inter...      833      NaN   \n",
       "200       Attribution-NonCommercial-ShareAlike 3.0 Inter...      772      NaN   \n",
       "...                                                     ...      ...      ...   \n",
       "154305                                          Attribution     1387      NaN   \n",
       "154306                                          Attribution     1573      NaN   \n",
       "154307                                          Attribution     1835      NaN   \n",
       "154308                                          Attribution     2705      NaN   \n",
       "154309                                          Attribution     3589      NaN   \n",
       "\n",
       "          number publisher                                               tags  \\\n",
       "track_id                                                                        \n",
       "190            2       NaN                                                 []   \n",
       "193            3       NaN                                                 []   \n",
       "194            4       NaN                                                 []   \n",
       "197            5       NaN                                                 []   \n",
       "200            7       NaN                                                 []   \n",
       "...          ...       ...                                                ...   \n",
       "154305        14       NaN  [fleslit, trap beat free use, trap beat free d...   \n",
       "154306        15       NaN  [fleslit, trap beat free use, trap beat free d...   \n",
       "154307        16       NaN  [fleslit, trap beat free use, trap beat free d...   \n",
       "154308        17       NaN  [fleslit, trap beat free use, trap beat free d...   \n",
       "154309        18       NaN  [fleslit, trap beat free use, trap beat free d...   \n",
       "\n",
       "                     title  \n",
       "track_id                    \n",
       "190        Castle Of Stars  \n",
       "193          Here With You  \n",
       "194       All I want to Do  \n",
       "197                Piano 2  \n",
       "200         Baby Come Home  \n",
       "...                    ...  \n",
       "154305         Calm Flight  \n",
       "154306               Yummy  \n",
       "154307            12:01 AM  \n",
       "154308                 MIA  \n",
       "154309         A1 Symphony  \n",
       "\n",
       "[4559 rows x 20 columns]"
      ]
     },
     "execution_count": 36,
     "metadata": {},
     "output_type": "execute_result"
    }
   ],
   "source": [
    "songsset['track']"
   ]
  },
  {
   "cell_type": "code",
   "execution_count": 20,
   "id": "hungarian-haiti",
   "metadata": {},
   "outputs": [
    {
     "data": {
      "text/plain": [
       "Instrumental     859\n",
       "Hip-Hop          737\n",
       "International    653\n",
       "Pop              600\n",
       "Folk             557\n",
       "Electronic       489\n",
       "Experimental     351\n",
       "Rock             313\n",
       "Name: (track, genre_top), dtype: int64"
      ]
     },
     "metadata": {},
     "output_type": "display_data"
    },
    {
     "data": {
      "text/plain": [
       "count      8.000000\n",
       "mean     569.875000\n",
       "std      185.140439\n",
       "min      313.000000\n",
       "25%      454.500000\n",
       "50%      578.500000\n",
       "75%      674.000000\n",
       "max      859.000000\n",
       "Name: (track, genre_top), dtype: float64"
      ]
     },
     "metadata": {},
     "output_type": "display_data"
    },
    {
     "data": {
      "text/plain": [
       "<AxesSubplot:ylabel='(track, genre_top)'>"
      ]
     },
     "execution_count": 20,
     "metadata": {},
     "output_type": "execute_result"
    },
    {
     "data": {
      "image/png": "[encoded data removed]",
      "text/plain": [
       "<Figure size 432x288 with 1 Axes>"
      ]
     },
     "metadata": {},
     "output_type": "display_data"
    }
   ],
   "source": [
    "# songsset['track','genre_top'].loc[songsset['artist','name']!='Blue Dot Sessions'].value_counts() \n",
    "\n",
    "#Blue dot huge influenece in instrumental\n",
    "ipd.display(songsset['track','genre_top'].value_counts().iloc[0:8])\n",
    "ipd.display(songsset['track','genre_top'].value_counts().iloc[0:8].describe())\n",
    "songsset['track','genre_top'].value_counts().plot.pie()"
   ]
  },
  {
   "cell_type": "code",
   "execution_count": 21,
   "id": "enabling-happening",
   "metadata": {},
   "outputs": [
    {
     "data": {
      "text/plain": [
       "Instrumental     481\n",
       "Hip-Hop          284\n",
       "Folk             187\n",
       "Pop              165\n",
       "Experimental     130\n",
       "International    100\n",
       "Electronic        94\n",
       "Rock              58\n",
       "Name: (track, genre_top), dtype: int64"
      ]
     },
     "metadata": {},
     "output_type": "display_data"
    },
    {
     "data": {
      "text/plain": [
       "count      8.000000\n",
       "mean     187.375000\n",
       "std      137.547849\n",
       "min       58.000000\n",
       "25%       98.500000\n",
       "50%      147.500000\n",
       "75%      211.250000\n",
       "max      481.000000\n",
       "Name: (track, genre_top), dtype: float64"
      ]
     },
     "metadata": {},
     "output_type": "display_data"
    },
    {
     "data": {
      "text/plain": [
       "<AxesSubplot:ylabel='(track, genre_top)'>"
      ]
     },
     "execution_count": 21,
     "metadata": {},
     "output_type": "execute_result"
    },
    {
     "data": {
      "image/png": "[encoded data removed]",
      "text/plain": [
       "<Figure size 432x288 with 1 Axes>"
      ]
     },
     "metadata": {},
     "output_type": "display_data"
    }
   ],
   "source": [
    "#Testing theory, too heavy instrumental genre for artists that have >20 songs \n",
    "#Find genres of no of artist having songs >20 \n",
    "gt20 = fma_small.loc[fma_small['artist','name'].isin(artists_freq[artists_freq >=20].index.to_numpy())] #1499 songs\n",
    "ipd.display(gt20['track','genre_top'].value_counts().iloc[0:8])\n",
    "ipd.display(gt20['track','genre_top'].value_counts().iloc[0:8].describe())\n",
    "#So bias is same as  \n",
    "gt20['track','genre_top'].value_counts().plot.pie()"
   ]
  },
  {
   "cell_type": "code",
   "execution_count": 22,
   "id": "governmental-territory",
   "metadata": {},
   "outputs": [
    {
     "data": {
      "text/plain": [
       "International    553\n",
       "Hip-Hop          453\n",
       "Pop              435\n",
       "Electronic       395\n",
       "Instrumental     378\n",
       "Folk             370\n",
       "Rock             255\n",
       "Experimental     221\n",
       "Name: (track, genre_top), dtype: int64"
      ]
     },
     "metadata": {},
     "output_type": "display_data"
    },
    {
     "data": {
      "text/plain": [
       "count      8.000000\n",
       "mean     382.500000\n",
       "std      106.548446\n",
       "min      221.000000\n",
       "25%      341.250000\n",
       "50%      386.500000\n",
       "75%      439.500000\n",
       "max      553.000000\n",
       "Name: (track, genre_top), dtype: float64"
      ]
     },
     "metadata": {},
     "output_type": "display_data"
    }
   ],
   "source": [
    "diff= (songsset['track','genre_top'].value_counts() - gt20['track','genre_top'].value_counts()).sort_values(ascending=False)\n",
    "ipd.display(diff.iloc[0:8])\n",
    "ipd.display(diff.iloc[0:8].describe())\n",
    "#Far more balanced so should be better with 6 of each?\n",
    "# Pretty bad deviation"
   ]
  },
  {
   "cell_type": "code",
   "execution_count": 23,
   "id": "simple-twelve",
   "metadata": {},
   "outputs": [],
   "source": [
    "#only 6 per artist\n",
    "#pie chart for each genre\n",
    "#check genre balance for 6 artists set and calculate possible total neg pairs for triplet loss"
   ]
  },
  {
   "cell_type": "code",
   "execution_count": 275,
   "id": "periodic-nurse",
   "metadata": {},
   "outputs": [],
   "source": [
    "# sampledsongs = songsset['artist','name'].sample(n=6,random_state=1)"
   ]
  },
  {
   "cell_type": "code",
   "execution_count": 24,
   "id": "compact-invite",
   "metadata": {},
   "outputs": [],
   "source": [
    "#sample each artist\n",
    "grouped = songsset.groupby(('artist','name'))\n",
    "sampled_groups = grouped.sample(n=6,random_state=1)"
   ]
  },
  {
   "cell_type": "code",
   "execution_count": 25,
   "id": "first-hughes",
   "metadata": {
    "scrolled": false
   },
   "outputs": [
    {
     "data": {
      "text/plain": [
       "International    387\n",
       "Hip-Hop          334\n",
       "Pop              327\n",
       "Electronic       289\n",
       "Instrumental     278\n",
       "Folk             258\n",
       "Rock             202\n",
       "Experimental     193\n",
       "Name: (track, genre_top), dtype: int64"
      ]
     },
     "metadata": {},
     "output_type": "display_data"
    },
    {
     "data": {
      "text/plain": [
       "count      8.000000\n",
       "mean     283.500000\n",
       "std       66.222568\n",
       "min      193.000000\n",
       "25%      244.000000\n",
       "50%      283.500000\n",
       "75%      328.750000\n",
       "max      387.000000\n",
       "Name: (track, genre_top), dtype: float64"
      ]
     },
     "metadata": {},
     "output_type": "display_data"
    },
    {
     "data": {
      "text/plain": [
       "<AxesSubplot:ylabel='(track, genre_top)'>"
      ]
     },
     "execution_count": 25,
     "metadata": {},
     "output_type": "execute_result"
    },
    {
     "data": {
      "image/png": "[encoded data removed]",
      "text/plain": [
       "<Figure size 432x288 with 1 Axes>"
      ]
     },
     "metadata": {},
     "output_type": "display_data"
    }
   ],
   "source": [
    "ipd.display(sampled_groups['track','genre_top'].value_counts().iloc[:8])\n",
    "ipd.display(sampled_groups['track','genre_top'].value_counts().iloc[:8].describe())\n",
    "sampled_groups['track','genre_top'].value_counts().plot.pie()\n",
    "# sampled_groups['track','genre_top'].value_counts().median()"
   ]
  },
  {
   "cell_type": "code",
   "execution_count": 325,
   "id": "amino-medication",
   "metadata": {},
   "outputs": [],
   "source": [
    "# test2 = grouped.sample(n=6,random_state=19)"
   ]
  },
  {
   "cell_type": "code",
   "execution_count": 428,
   "id": "intellectual-strengthening",
   "metadata": {},
   "outputs": [],
   "source": [
    "# ipd.display(test2['track','genre_top'].value_counts().iloc[:8])\n",
    "# ipd.display(test2['track','genre_top'].value_counts().iloc[:8].describe())\n"
   ]
  },
  {
   "cell_type": "code",
   "execution_count": 26,
   "id": "requested-house",
   "metadata": {},
   "outputs": [
    {
     "data": {
      "text/plain": [
       "International    597\n",
       "Hip-Hop          477\n",
       "Pop              473\n",
       "Electronic       443\n",
       "Instrumental     410\n",
       "Folk             394\n",
       "Experimental     307\n",
       "Rock             299\n",
       "Name: (track, genre_top), dtype: int64"
      ]
     },
     "metadata": {},
     "output_type": "display_data"
    },
    {
     "data": {
      "text/plain": [
       "count      8.000000\n",
       "mean     425.000000\n",
       "std       97.028714\n",
       "min      299.000000\n",
       "25%      372.250000\n",
       "50%      426.500000\n",
       "75%      474.000000\n",
       "max      597.000000\n",
       "Name: (track, genre_top), dtype: float64"
      ]
     },
     "metadata": {},
     "output_type": "display_data"
    },
    {
     "data": {
      "text/plain": [
       "<AxesSubplot:ylabel='(track, genre_top)'>"
      ]
     },
     "execution_count": 26,
     "metadata": {},
     "output_type": "execute_result"
    },
    {
     "data": {
      "image/png": "[encoded data removed]",
      "text/plain": [
       "<Figure size 432x288 with 1 Axes>"
      ]
     },
     "metadata": {},
     "output_type": "display_data"
    }
   ],
   "source": [
    "## Maybe try taking  more balanced initial range?\n",
    "# like arts with <15 samples and >6?\n",
    "lt10 = fma_small.loc[fma_small['artist','name'].isin(artists_freq[(artists_freq <= 26) & (artists_freq >=6)].index.to_numpy())] #1499 songs\n",
    "ipd.display(lt10['track','genre_top'].value_counts().iloc[0:8])\n",
    "ipd.display(lt10['track','genre_top'].value_counts().iloc[0:8].describe())\n",
    "#So bias is same as  \n",
    "lt10['track','genre_top'].value_counts().plot.pie()"
   ]
  },
  {
   "cell_type": "code",
   "execution_count": 38,
   "id": "serial-paint",
   "metadata": {},
   "outputs": [
    {
     "data": {
      "text/plain": [
       "Lee Rosevere      26\n",
       "Josh Woodward     26\n",
       "Scott Holmes      25\n",
       "Lucky Dragons     24\n",
       "Maxwell Powers    24\n",
       "                  ..\n",
       "Jarrod Fowler      6\n",
       "Kevin MacLeod      6\n",
       "Fósforo            6\n",
       "Büromaschinen      6\n",
       "Vanya Zhuk         6\n",
       "Name: (artist, name), Length: 354, dtype: int64"
      ]
     },
     "execution_count": 38,
     "metadata": {},
     "output_type": "execute_result"
    }
   ],
   "source": [
    "lt10['artist','name'].value_counts() #at <26 >5\n",
    "#then 5C2 = 10*450 = 4500 total pairs, not great\n",
    "# at <26 >6 => 6C2 = 15*354 =5310 \n",
    "#at normal >6 => 6C2 = 15*378 = 5670\n",
    "\n",
    "\n",
    "# '''\n",
    "# songs?\n",
    "# 6*354 = 2124 songs\n",
    "# 6*378 = 2268 songs\n",
    "# 5*450 = 2250 songs\n",
    "# '''\n"
   ]
  },
  {
   "cell_type": "code",
   "execution_count": 34,
   "id": "respective-excess",
   "metadata": {},
   "outputs": [
    {
     "data": {
      "text/plain": [
       "3400"
      ]
     },
     "execution_count": 34,
     "metadata": {},
     "output_type": "execute_result"
    }
   ],
   "source": [
    "lt10['track','title'].count()"
   ]
  },
  {
   "cell_type": "code",
   "execution_count": 59,
   "id": "swiss-madness",
   "metadata": {},
   "outputs": [],
   "source": [
    "blacklist = [\"fma_small/fma_small/108/108925.mp3\",\"fma_small/fma_small\\099\\099134.mp3\",\"fma_small/fma_small\\133\\133297.mp3\"]\n",
    "#these corrupted files not in index\n",
    "\n",
    "file = Path(\"155066\").stem"
   ]
  },
  {
   "cell_type": "code",
   "execution_count": 61,
   "id": "alive-circle",
   "metadata": {},
   "outputs": [],
   "source": [
    "lt10.to_csv(\"../csvs/samplespace.csv\")\n",
    "#Done saving"
   ]
  },
  {
   "cell_type": "markdown",
   "id": "intelligent-albania",
   "metadata": {},
   "source": [
    "# Sample (not needed)"
   ]
  },
  {
   "cell_type": "code",
   "execution_count": 506,
   "id": "cosmetic-cliff",
   "metadata": {},
   "outputs": [],
   "source": [
    "sample_lt10 = lt10.groupby(('artist','name')).sample(n=6,random_state=1)"
   ]
  },
  {
   "cell_type": "code",
   "execution_count": 507,
   "id": "suited-impossible",
   "metadata": {},
   "outputs": [
    {
     "data": {
      "text/plain": [
       "International    375\n",
       "Pop              303\n",
       "Hip-Hop          294\n",
       "Electronic       276\n",
       "Instrumental     244\n",
       "Folk             243\n",
       "Rock             203\n",
       "Experimental     186\n",
       "Name: (track, genre_top), dtype: int64"
      ]
     },
     "metadata": {},
     "output_type": "display_data"
    },
    {
     "data": {
      "text/plain": [
       "count      8.000000\n",
       "mean     265.500000\n",
       "std       60.372652\n",
       "min      186.000000\n",
       "25%      233.000000\n",
       "50%      260.000000\n",
       "75%      296.250000\n",
       "max      375.000000\n",
       "Name: (track, genre_top), dtype: float64"
      ]
     },
     "metadata": {},
     "output_type": "display_data"
    },
    {
     "data": {
      "text/plain": [
       "<AxesSubplot:ylabel='(track, genre_top)'>"
      ]
     },
     "execution_count": 507,
     "metadata": {},
     "output_type": "execute_result"
    },
    {
     "data": {
      "image/png": "[encoded data removed]",
      "text/plain": [
       "<Figure size 432x288 with 1 Axes>"
      ]
     },
     "metadata": {},
     "output_type": "display_data"
    }
   ],
   "source": [
    "ipd.display(sample_lt10['track','genre_top'].value_counts().iloc[:8])\n",
    "ipd.display(sample_lt10['track','genre_top'].value_counts().iloc[:8].describe())\n",
    "sample_lt10['track','genre_top'].value_counts().plot.pie()"
   ]
  },
  {
   "cell_type": "code",
   "execution_count": 436,
   "id": "unique-australia",
   "metadata": {},
   "outputs": [],
   "source": [
    "\"\"\"probably better <26 > 6\"\"\"\n",
    "\n"
   ]
  },
  {
   "cell_type": "code",
   "execution_count": 457,
   "id": "foster-sigma",
   "metadata": {},
   "outputs": [
    {
     "data": {
      "text/plain": [
       "378"
      ]
     },
     "execution_count": 457,
     "metadata": {},
     "output_type": "execute_result"
    }
   ],
   "source": [
    "sampled_groups['artist','name'].unique().size ## 378 artists then"
   ]
  },
  {
   "cell_type": "code",
   "execution_count": 535,
   "id": "moderate-wealth",
   "metadata": {},
   "outputs": [
    {
     "data": {
      "text/plain": [
       "354"
      ]
     },
     "execution_count": 535,
     "metadata": {},
     "output_type": "execute_result"
    }
   ],
   "source": [
    "sample_lt10['artist','name'].unique().size"
   ]
  },
  {
   "cell_type": "code",
   "execution_count": 521,
   "id": "ceramic-geology",
   "metadata": {},
   "outputs": [
    {
     "data": {
      "text/plain": [
       "track_id\n",
       "190       Ed Askew\n",
       "193       Ed Askew\n",
       "194       Ed Askew\n",
       "197       Ed Askew\n",
       "200       Ed Askew\n",
       "            ...   \n",
       "154305     Fleslit\n",
       "154306     Fleslit\n",
       "154307     Fleslit\n",
       "154308     Fleslit\n",
       "154309     Fleslit\n",
       "Name: (artist, name), Length: 4559, dtype: object"
      ]
     },
     "execution_count": 521,
     "metadata": {},
     "output_type": "execute_result"
    }
   ],
   "source": [
    "## check artist genre correlation ???\n",
    "songsset['artist','name']"
   ]
  },
  {
   "cell_type": "code",
   "execution_count": 534,
   "id": "mechanical-canyon",
   "metadata": {},
   "outputs": [
    {
     "data": {
      "text/plain": [
       "(artist, name)                  (track, genre_top)\n",
       "Blue Dot Sessions               Instrumental          208\n",
       "Big Blood                       Folk                   91\n",
       "The Impossebulls                Hip-Hop                68\n",
       "Kellee Maize                    Hip-Hop                55\n",
       "Squire Tuck                     Instrumental           50\n",
       "TRG Banks                       Instrumental           47\n",
       "Derek Clegg                     Folk                   45\n",
       "C-Doc                           Hip-Hop                42\n",
       "Phemale                         Pop                    41\n",
       "Cory Gray                       Instrumental           36\n",
       "Tha Silent Partner              Hip-Hop                33\n",
       "6th Sense                       Hip-Hop                33\n",
       "David Szesztay                  Instrumental           32\n",
       "SPCZ                            Electronic             30\n",
       "Turku, Nomads of the Silk Road  International          29\n",
       "Ergo Phizmiz                    Instrumental           29\n",
       "File Under Toner                Experimental           29\n",
       "Garmisch                        Pop                    29\n",
       "Alaclair Ensemble               Hip-Hop                29\n",
       "Fierbinteanu                    Pop                    28\n",
       "Podington Bear                  Instrumental           27\n",
       "Sláinte                         International          27\n",
       "Josh Woodward                   Folk                   24\n",
       "Maxwell Powers                  Pop                    24\n",
       "Lucky Dragons                   Experimental           24\n",
       "Black Ant                       Hip-Hop                24\n",
       "Black Sea Hotel                 International          23\n",
       "Justice Yeldham                 Experimental           22\n",
       "The Sounds of Taraab            International          21\n",
       "The Vivisectors                 Rock                   21\n",
       "ODOR BABY                       Experimental           21\n",
       "Jason Shaw                      Electronic             21\n",
       "Scott Holmes                    Rock                   21\n",
       "Decktonic                       Electronic             20\n",
       "Plusplus                        Folk                   19\n",
       "Yale Women's Slavic Chorus      International          19\n",
       "Kelly Latimore                  Folk                   19\n",
       "Gogofski                        International          19\n",
       "Mastermind XS                   International          18\n",
       "Michael Chapman                 Folk                   18\n",
       "Kevin Hartnell                  Instrumental           18\n",
       "krackatoa                       Instrumental           18\n",
       "Plushgoolash                    Pop                    17\n",
       "Cullah                          Hip-Hop                17\n",
       "Josh Armistead                  Folk                   17\n",
       "Cheese N Pot-C                  Hip-Hop                16\n",
       "Hi-Rez                          Hip-Hop                16\n",
       "Monk Turner                     Pop                    16\n",
       "The Fucked Up Beat              Experimental           16\n",
       "Alash Ensemble                  International          16\n",
       "dtype: int64"
      ]
     },
     "execution_count": 534,
     "metadata": {},
     "output_type": "execute_result"
    }
   ],
   "source": [
    "# songsset[[(\"artist\",\"name\"),(\"track\",\"genre_top\")]].value_counts().head(50) # between artist name and genre top"
   ]
  },
  {
   "cell_type": "code",
   "execution_count": null,
   "id": "touched-heart",
   "metadata": {},
   "outputs": [],
   "source": []
  }
 ],
 "metadata": {
  "kernelspec": {
   "display_name": "Python 3",
   "language": "python",
   "name": "python3"
  },
  "language_info": {
   "codemirror_mode": {
    "name": "ipython",
    "version": 3
   },
   "file_extension": ".py",
   "mimetype": "text/x-python",
   "name": "python",
   "nbconvert_exporter": "python",
   "pygments_lexer": "ipython3",
   "version": "3.8.5"
  }
 },
 "nbformat": 4,
 "nbformat_minor": 5
}
